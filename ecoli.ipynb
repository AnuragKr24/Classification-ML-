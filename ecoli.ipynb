{
 "cells": [
  {
   "cell_type": "code",
   "execution_count": 2,
   "id": "134f1ae7-5963-4c63-8c70-e05894f94126",
   "metadata": {},
   "outputs": [],
   "source": [
    "import pandas as pd\n",
    "from sklearn.model_selection import train_test_split\n",
    "from sklearn.preprocessing import LabelEncoder, StandardScaler\n",
    "from sklearn.metrics import accuracy_score, precision_score, recall_score, f1_score"
   ]
  },
  {
   "cell_type": "code",
   "execution_count": 4,
   "id": "7caf26c1-02ed-4f2f-a11a-d8ff8501c01a",
   "metadata": {},
   "outputs": [
    {
     "name": "stderr",
     "output_type": "stream",
     "text": [
      "C:\\Users\\KIIT\\AppData\\Local\\Temp\\ipykernel_30488\\3616058133.py:3: FutureWarning: The 'delim_whitespace' keyword in pd.read_csv is deprecated and will be removed in a future version. Use ``sep='\\s+'`` instead\n",
      "  data = pd.read_csv(url, delim_whitespace=True, names=column_names)\n"
     ]
    }
   ],
   "source": [
    "url = \"https://archive.ics.uci.edu/ml/machine-learning-databases/ecoli/ecoli.data\"\n",
    "column_names = [\"SequenceName\", \"mcg\", \"gvh\", \"lip\", \"chg\", \"aac\", \"alm1\", \"alm2\", \"Class\"]\n",
    "data = pd.read_csv(url, delim_whitespace=True, names=column_names)"
   ]
  },
  {
   "cell_type": "code",
   "execution_count": 6,
   "id": "d1dfe79e-e50b-4c23-ad2a-e46c7e66fefd",
   "metadata": {},
   "outputs": [],
   "source": [
    "# Prepare data\n",
    "X = data.iloc[:, 1:-1].values  # Features\n",
    "y = data[\"Class\"].values       # Target variable\n",
    "\n",
    "# Encode class labels to numeric values\n",
    "label_encoder = LabelEncoder()\n",
    "y = label_encoder.fit_transform(y)\n",
    "\n",
    "# Standardize features\n",
    "scaler = StandardScaler()\n",
    "X = scaler.fit_transform(X)\n",
    "\n",
    "# Train-test split\n",
    "X_train, X_test, y_train, y_test = train_test_split(X, y, test_size=0.2, random_state=42, stratify=y)\n"
   ]
  },
  {
   "cell_type": "code",
   "execution_count": 8,
   "id": "e998e57e-ce64-4421-a62a-c99811321eae",
   "metadata": {},
   "outputs": [
    {
     "name": "stdout",
     "output_type": "stream",
     "text": [
      "Random Forest Results:\n",
      "Accuracy: 0.8676\n",
      "Precision: 0.8996\n",
      "Recall: 0.8676\n",
      "F1 Score: 0.8707\n"
     ]
    }
   ],
   "source": [
    "from sklearn.ensemble import RandomForestClassifier\n",
    "\n",
    "# Initialize Random Forest model\n",
    "rf_model = RandomForestClassifier(random_state=42)\n",
    "\n",
    "# Train the model\n",
    "rf_model.fit(X_train, y_train)\n",
    "\n",
    "# Make predictions\n",
    "y_pred = rf_model.predict(X_test)\n",
    "\n",
    "# Evaluate performance\n",
    "rf_accuracy = accuracy_score(y_test, y_pred)\n",
    "rf_precision = precision_score(y_test, y_pred, average='weighted')\n",
    "rf_recall = recall_score(y_test, y_pred, average='weighted')\n",
    "rf_f1 = f1_score(y_test, y_pred, average='weighted')\n",
    "\n",
    "# Print results\n",
    "print(\"Random Forest Results:\")\n",
    "print(f\"Accuracy: {rf_accuracy:.4f}\")\n",
    "print(f\"Precision: {rf_precision:.4f}\")\n",
    "print(f\"Recall: {rf_recall:.4f}\")\n",
    "print(f\"F1 Score: {rf_f1:.4f}\")\n"
   ]
  },
  {
   "cell_type": "code",
   "execution_count": 10,
   "id": "90a3a24e-3e63-4609-88a4-3a3e663b0d9f",
   "metadata": {},
   "outputs": [
    {
     "name": "stdout",
     "output_type": "stream",
     "text": [
      "\n",
      "Decision Tree Results:\n",
      "Accuracy: 0.8088\n",
      "Precision: 0.8727\n",
      "Recall: 0.8088\n",
      "F1 Score: 0.8258\n"
     ]
    },
    {
     "name": "stderr",
     "output_type": "stream",
     "text": [
      "C:\\Users\\KIIT\\anaconda3\\Lib\\site-packages\\sklearn\\metrics\\_classification.py:1531: UndefinedMetricWarning: Precision is ill-defined and being set to 0.0 in labels with no predicted samples. Use `zero_division` parameter to control this behavior.\n",
      "  _warn_prf(average, modifier, f\"{metric.capitalize()} is\", len(result))\n",
      "C:\\Users\\KIIT\\anaconda3\\Lib\\site-packages\\sklearn\\metrics\\_classification.py:1531: UndefinedMetricWarning: Recall is ill-defined and being set to 0.0 in labels with no true samples. Use `zero_division` parameter to control this behavior.\n",
      "  _warn_prf(average, modifier, f\"{metric.capitalize()} is\", len(result))\n"
     ]
    }
   ],
   "source": [
    "from sklearn.tree import DecisionTreeClassifier\n",
    "\n",
    "# Initialize Decision Tree model\n",
    "dt_model = DecisionTreeClassifier(random_state=42)\n",
    "\n",
    "# Train the model\n",
    "dt_model.fit(X_train, y_train)\n",
    "\n",
    "# Make predictions\n",
    "y_pred = dt_model.predict(X_test)\n",
    "\n",
    "# Evaluate performance\n",
    "dt_accuracy = accuracy_score(y_test, y_pred)\n",
    "dt_precision = precision_score(y_test, y_pred, average='weighted')\n",
    "dt_recall = recall_score(y_test, y_pred, average='weighted')\n",
    "dt_f1 = f1_score(y_test, y_pred, average='weighted')\n",
    "\n",
    "# Print results\n",
    "print(\"\\nDecision Tree Results:\")\n",
    "print(f\"Accuracy: {dt_accuracy:.4f}\")\n",
    "print(f\"Precision: {dt_precision:.4f}\")\n",
    "print(f\"Recall: {dt_recall:.4f}\")\n",
    "print(f\"F1 Score: {dt_f1:.4f}\")\n"
   ]
  },
  {
   "cell_type": "code",
   "execution_count": 12,
   "id": "829a97a5-b96b-45bf-b427-220bcf7b6841",
   "metadata": {},
   "outputs": [
    {
     "name": "stdout",
     "output_type": "stream",
     "text": [
      "\n",
      "Support Vector Machine (SVM) Results:\n",
      "Accuracy: 0.9118\n",
      "Precision: 0.9336\n",
      "Recall: 0.9118\n",
      "F1 Score: 0.9153\n"
     ]
    }
   ],
   "source": [
    "from sklearn.svm import SVC\n",
    "\n",
    "# Initialize SVM model\n",
    "svm_model = SVC(kernel='linear', random_state=42)\n",
    "\n",
    "# Train the model\n",
    "svm_model.fit(X_train, y_train)\n",
    "\n",
    "# Make predictions\n",
    "y_pred = svm_model.predict(X_test)\n",
    "\n",
    "# Evaluate performance\n",
    "svm_accuracy = accuracy_score(y_test, y_pred)\n",
    "svm_precision = precision_score(y_test, y_pred, average='weighted')\n",
    "svm_recall = recall_score(y_test, y_pred, average='weighted')\n",
    "svm_f1 = f1_score(y_test, y_pred, average='weighted')\n",
    "\n",
    "# Print results\n",
    "print(\"\\nSupport Vector Machine (SVM) Results:\")\n",
    "print(f\"Accuracy: {svm_accuracy:.4f}\")\n",
    "print(f\"Precision: {svm_precision:.4f}\")\n",
    "print(f\"Recall: {svm_recall:.4f}\")\n",
    "print(f\"F1 Score: {svm_f1:.4f}\")\n"
   ]
  },
  {
   "cell_type": "code",
   "execution_count": 14,
   "id": "4a3f0b0f-795b-456c-a4e6-c93abf00cdec",
   "metadata": {},
   "outputs": [
    {
     "name": "stdout",
     "output_type": "stream",
     "text": [
      "\n",
      "K-Nearest Neighbors (KNN) Results:\n",
      "Accuracy: 0.9265\n",
      "Precision: 0.9334\n",
      "Recall: 0.9265\n",
      "F1 Score: 0.9265\n"
     ]
    }
   ],
   "source": [
    "from sklearn.neighbors import KNeighborsClassifier\n",
    "\n",
    "# Initialize KNN model\n",
    "knn_model = KNeighborsClassifier(n_neighbors=5)\n",
    "\n",
    "# Train the model\n",
    "knn_model.fit(X_train, y_train)\n",
    "\n",
    "# Make predictions\n",
    "y_pred = knn_model.predict(X_test)\n",
    "\n",
    "# Evaluate performance\n",
    "knn_accuracy = accuracy_score(y_test, y_pred)\n",
    "knn_precision = precision_score(y_test, y_pred, average='weighted')\n",
    "knn_recall = recall_score(y_test, y_pred, average='weighted')\n",
    "knn_f1 = f1_score(y_test, y_pred, average='weighted')\n",
    "\n",
    "# Print results\n",
    "print(\"\\nK-Nearest Neighbors (KNN) Results:\")\n",
    "print(f\"Accuracy: {knn_accuracy:.4f}\")\n",
    "print(f\"Precision: {knn_precision:.4f}\")\n",
    "print(f\"Recall: {knn_recall:.4f}\")\n",
    "print(f\"F1 Score: {knn_f1:.4f}\")\n"
   ]
  },
  {
   "cell_type": "code",
   "execution_count": 16,
   "id": "ee2fa622-3e66-49ae-9073-552cb88febcc",
   "metadata": {},
   "outputs": [
    {
     "name": "stdout",
     "output_type": "stream",
     "text": [
      "\n",
      "Multilayer Perceptron (MLP) Results:\n",
      "Accuracy: 0.9118\n",
      "Precision: 0.9336\n",
      "Recall: 0.9118\n",
      "F1 Score: 0.9153\n"
     ]
    },
    {
     "name": "stderr",
     "output_type": "stream",
     "text": [
      "C:\\Users\\KIIT\\anaconda3\\Lib\\site-packages\\sklearn\\neural_network\\_multilayer_perceptron.py:690: ConvergenceWarning: Stochastic Optimizer: Maximum iterations (300) reached and the optimization hasn't converged yet.\n",
      "  warnings.warn(\n"
     ]
    }
   ],
   "source": [
    "from sklearn.neural_network import MLPClassifier\n",
    "\n",
    "# Initialize MLP model\n",
    "mlp_model = MLPClassifier(hidden_layer_sizes=(100,), max_iter=300, random_state=42)\n",
    "\n",
    "# Train the model\n",
    "mlp_model.fit(X_train, y_train)\n",
    "\n",
    "# Make predictions\n",
    "y_pred = mlp_model.predict(X_test)\n",
    "\n",
    "# Evaluate performance\n",
    "mlp_accuracy = accuracy_score(y_test, y_pred)\n",
    "mlp_precision = precision_score(y_test, y_pred, average='weighted')\n",
    "mlp_recall = recall_score(y_test, y_pred, average='weighted')\n",
    "mlp_f1 = f1_score(y_test, y_pred, average='weighted')\n",
    "\n",
    "# Print results\n",
    "print(\"\\nMultilayer Perceptron (MLP) Results:\")\n",
    "print(f\"Accuracy: {mlp_accuracy:.4f}\")\n",
    "print(f\"Precision: {mlp_precision:.4f}\")\n",
    "print(f\"Recall: {mlp_recall:.4f}\")\n",
    "print(f\"F1 Score: {mlp_f1:.4f}\")\n"
   ]
  },
  {
   "cell_type": "code",
   "execution_count": null,
   "id": "b5e5d4af-cbf2-4bed-be6b-5b15dd6c680b",
   "metadata": {},
   "outputs": [],
   "source": []
  }
 ],
 "metadata": {
  "kernelspec": {
   "display_name": "Python 3 (ipykernel)",
   "language": "python",
   "name": "python3"
  },
  "language_info": {
   "codemirror_mode": {
    "name": "ipython",
    "version": 3
   },
   "file_extension": ".py",
   "mimetype": "text/x-python",
   "name": "python",
   "nbconvert_exporter": "python",
   "pygments_lexer": "ipython3",
   "version": "3.12.7"
  }
 },
 "nbformat": 4,
 "nbformat_minor": 5
}
